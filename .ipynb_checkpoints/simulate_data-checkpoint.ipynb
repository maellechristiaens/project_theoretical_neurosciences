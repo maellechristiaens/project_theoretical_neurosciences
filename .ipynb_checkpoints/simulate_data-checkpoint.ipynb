{
 "cells": [
  {
   "cell_type": "markdown",
   "id": "9f05ed9a",
   "metadata": {},
   "source": [
    "# Importations"
   ]
  },
  {
   "cell_type": "code",
   "execution_count": 186,
   "id": "230bbc6a",
   "metadata": {},
   "outputs": [],
   "source": [
    "import scipy as sp\n",
    "import scipy.signal\n",
    "import matplotlib.pyplot as plt\n",
    "import numpy as np\n",
    "import seaborn as sns\n",
    "import pandas as pd\n",
    "import random\n",
    "\n",
    "%matplotlib qt"
   ]
  },
  {
   "cell_type": "code",
   "execution_count": null,
   "id": "99bd9650",
   "metadata": {},
   "outputs": [],
   "source": []
  },
  {
   "cell_type": "markdown",
   "id": "6fa15521",
   "metadata": {},
   "source": [
    "# Simulating experiment"
   ]
  },
  {
   "cell_type": "markdown",
   "id": "fc28eaf9",
   "metadata": {},
   "source": [
    "## Rats: Poisson clicks sound stimulus"
   ]
  },
  {
   "cell_type": "markdown",
   "id": "e6a9c185",
   "metadata": {},
   "source": [
    "Il faut que je calcule le nombre de right clicks et de left clicks à l'aide un processus de poisson qui prend le temps total du trial en compte, puis que je joue ces clicks à des moments random, en sachant que j'ai un ISI de 0. \n",
    "Je sais aussi qu'en moyenne, j'ai 40 clicks par secondes, mais je sais pas combien de chaque côté. On a aussi un ratio log(rL/rR) qui nous permet de varier la difficulté du truc "
   ]
  },
  {
   "cell_type": "code",
   "execution_count": 18,
   "id": "2f4d28e3",
   "metadata": {},
   "outputs": [],
   "source": [
    "#Parameters\n",
    "isi = 0\n",
    "duration_range = np.random.uniform(0.1, 1.2)\n",
    "rL + rR = 40*duration_range\n",
    "gamma = log(rR/rL)\n",
    "Ntot = 22\n",
    "Ndiff = 12"
   ]
  },
  {
   "cell_type": "code",
   "execution_count": 74,
   "id": "fd172f52",
   "metadata": {
    "jupyter": {
     "source_hidden": true
    }
   },
   "outputs": [],
   "source": [
    "def numbers_of_clicks(gamma):\n",
    "    '''\n",
    "    MC 04/11/21\n",
    "    Input : gamma = the difficulty of the trial\n",
    "    Output : the numbers of right and left clicks\n",
    "    '''\n",
    "    \"\"\n",
    "    \n",
    "    duration_range = np.random.uniform(0.1, 1.2) #compute the duration of the trial\n",
    "    rL = (40*duration_range)/(1+10**gamma)\n",
    "    rR = 40*duration_range - rL\n",
    "    return rR, rL, duration_range"
   ]
  },
  {
   "cell_type": "code",
   "execution_count": 78,
   "id": "43c37ce4",
   "metadata": {},
   "outputs": [],
   "source": [
    "def rates_of_clicks(gamma):\n",
    "    '''\n",
    "    MC 04/11/21\n",
    "    Input : gamma = the difficulty of the trial\n",
    "    Output : the rates of right and left clicks\n",
    "    '''\n",
    "    \"\"\n",
    "    r1 = 40/(1+10**gamma)\n",
    "    r2 = 40 - r1\n",
    "    return [r1, r2]"
   ]
  },
  {
   "cell_type": "code",
   "execution_count": null,
   "id": "7468ae06",
   "metadata": {},
   "outputs": [],
   "source": [
    "def clicks(self,gamma):\n",
    "    '''\n",
    "    MC 04/11/21\n",
    "    Input : the difficulty of the trial\n",
    "\n",
    "    Output : the timestamps of right and left clicks for this trial and the duration range\n",
    "    ''' \n",
    "    duration = np.random.uniform(0.1, 1.2) #compute the duration of the trial\n",
    "    l = self.rates_of_clicks(gamma) #generate the rates of clicks \n",
    "    [rR, rL] = random.sample(l, 2) #pick randomly which size corresponds to which rate (otherwise it's always the\n",
    "                                   #right size that has more clicks)\n",
    "    nL = scipy.stats.poisson(rL*duration).rvs()#Number of left clicks\n",
    "    nR = scipy.stats.poisson(rR*duration).rvs()#Number of right clicks\n",
    "    times_l = duration*scipy.stats.uniform.rvs(0,1,((nL,1))) #timestamps of left clicks\n",
    "    times_r = duration*scipy.stats.uniform.rvs(0,1,((nR,1))) #timestamps of right clicks\n",
    "    return times_r, times_l, duration"
   ]
  },
  {
   "cell_type": "code",
   "execution_count": 314,
   "id": "a6b82c37",
   "metadata": {},
   "outputs": [
    {
     "ename": "ValueError",
     "evalue": "size does not match the broadcast shape of the parameters. 9, (9,), (2,)",
     "output_type": "error",
     "traceback": [
      "\u001b[1;31m---------------------------------------------------------------------------\u001b[0m",
      "\u001b[1;31mValueError\u001b[0m                                Traceback (most recent call last)",
      "\u001b[1;32m~\\AppData\\Local\\Temp/ipykernel_24776/2485567731.py\u001b[0m in \u001b[0;36m<module>\u001b[1;34m\u001b[0m\n\u001b[1;32m----> 1\u001b[1;33m \u001b[0mtl\u001b[0m\u001b[1;33m,\u001b[0m \u001b[0mtr\u001b[0m\u001b[1;33m,\u001b[0m \u001b[0md\u001b[0m \u001b[1;33m=\u001b[0m \u001b[0mclicks\u001b[0m\u001b[1;33m(\u001b[0m\u001b[1;36m0.5\u001b[0m\u001b[1;33m)\u001b[0m\u001b[1;33m\u001b[0m\u001b[1;33m\u001b[0m\u001b[0m\n\u001b[0m",
      "\u001b[1;32m~\\AppData\\Local\\Temp/ipykernel_24776/586291790.py\u001b[0m in \u001b[0;36mclicks\u001b[1;34m(gamma)\u001b[0m\n\u001b[0;32m     12\u001b[0m     \u001b[0mnL\u001b[0m \u001b[1;33m=\u001b[0m \u001b[0mscipy\u001b[0m\u001b[1;33m.\u001b[0m\u001b[0mstats\u001b[0m\u001b[1;33m.\u001b[0m\u001b[0mpoisson\u001b[0m\u001b[1;33m(\u001b[0m\u001b[0mrL\u001b[0m\u001b[1;33m*\u001b[0m\u001b[0mduration\u001b[0m\u001b[1;33m)\u001b[0m\u001b[1;33m.\u001b[0m\u001b[0mrvs\u001b[0m\u001b[1;33m(\u001b[0m\u001b[1;33m)\u001b[0m\u001b[1;31m#Number of left clicks\u001b[0m\u001b[1;33m\u001b[0m\u001b[1;33m\u001b[0m\u001b[0m\n\u001b[0;32m     13\u001b[0m     \u001b[0mnR\u001b[0m \u001b[1;33m=\u001b[0m \u001b[0mscipy\u001b[0m\u001b[1;33m.\u001b[0m\u001b[0mstats\u001b[0m\u001b[1;33m.\u001b[0m\u001b[0mpoisson\u001b[0m\u001b[1;33m(\u001b[0m\u001b[0mrR\u001b[0m\u001b[1;33m*\u001b[0m\u001b[0mduration\u001b[0m\u001b[1;33m)\u001b[0m\u001b[1;33m.\u001b[0m\u001b[0mrvs\u001b[0m\u001b[1;33m(\u001b[0m\u001b[1;33m)\u001b[0m\u001b[1;31m#Number of right clicks\u001b[0m\u001b[1;33m\u001b[0m\u001b[1;33m\u001b[0m\u001b[0m\n\u001b[1;32m---> 14\u001b[1;33m     \u001b[0mtimes_l\u001b[0m \u001b[1;33m=\u001b[0m \u001b[0mscipy\u001b[0m\u001b[1;33m.\u001b[0m\u001b[0mstats\u001b[0m\u001b[1;33m.\u001b[0m\u001b[0muniform\u001b[0m\u001b[1;33m.\u001b[0m\u001b[0mrvs\u001b[0m\u001b[1;33m(\u001b[0m\u001b[0mloc\u001b[0m \u001b[1;33m=\u001b[0m \u001b[1;33m[\u001b[0m\u001b[1;36m0\u001b[0m\u001b[1;33m,\u001b[0m \u001b[0mduration\u001b[0m\u001b[1;33m]\u001b[0m\u001b[1;33m,\u001b[0m \u001b[0msize\u001b[0m\u001b[1;33m=\u001b[0m \u001b[0mnL\u001b[0m\u001b[1;33m)\u001b[0m \u001b[1;31m#timestamps of left clicks\u001b[0m\u001b[1;33m\u001b[0m\u001b[1;33m\u001b[0m\u001b[0m\n\u001b[0m\u001b[0;32m     15\u001b[0m     \u001b[0mtimes_r\u001b[0m \u001b[1;33m=\u001b[0m \u001b[0mscipy\u001b[0m\u001b[1;33m.\u001b[0m\u001b[0mstats\u001b[0m\u001b[1;33m.\u001b[0m\u001b[0muniform\u001b[0m\u001b[1;33m.\u001b[0m\u001b[0mrvs\u001b[0m\u001b[1;33m(\u001b[0m\u001b[0mloc\u001b[0m\u001b[1;33m=\u001b[0m \u001b[1;33m[\u001b[0m\u001b[1;36m0\u001b[0m\u001b[1;33m,\u001b[0m\u001b[0mduration\u001b[0m\u001b[1;33m]\u001b[0m\u001b[1;33m,\u001b[0m \u001b[0msize\u001b[0m \u001b[1;33m=\u001b[0m\u001b[0mnR\u001b[0m\u001b[1;33m)\u001b[0m \u001b[1;31m#timestamps of right clicks\u001b[0m\u001b[1;33m\u001b[0m\u001b[1;33m\u001b[0m\u001b[0m\n\u001b[0;32m     16\u001b[0m     \u001b[1;32mreturn\u001b[0m \u001b[0mnL\u001b[0m\u001b[1;33m,\u001b[0m \u001b[0mnR\u001b[0m\u001b[1;33m,\u001b[0m \u001b[0mduration\u001b[0m\u001b[1;33m\u001b[0m\u001b[1;33m\u001b[0m\u001b[0m\n",
      "\u001b[1;32m~\\anaconda3\\lib\\site-packages\\scipy\\stats\\_distn_infrastructure.py\u001b[0m in \u001b[0;36mrvs\u001b[1;34m(self, *args, **kwds)\u001b[0m\n\u001b[0;32m   1062\u001b[0m         \u001b[0mdiscrete\u001b[0m \u001b[1;33m=\u001b[0m \u001b[0mkwds\u001b[0m\u001b[1;33m.\u001b[0m\u001b[0mpop\u001b[0m\u001b[1;33m(\u001b[0m\u001b[1;34m'discrete'\u001b[0m\u001b[1;33m,\u001b[0m \u001b[1;32mNone\u001b[0m\u001b[1;33m)\u001b[0m\u001b[1;33m\u001b[0m\u001b[1;33m\u001b[0m\u001b[0m\n\u001b[0;32m   1063\u001b[0m         \u001b[0mrndm\u001b[0m \u001b[1;33m=\u001b[0m \u001b[0mkwds\u001b[0m\u001b[1;33m.\u001b[0m\u001b[0mpop\u001b[0m\u001b[1;33m(\u001b[0m\u001b[1;34m'random_state'\u001b[0m\u001b[1;33m,\u001b[0m \u001b[1;32mNone\u001b[0m\u001b[1;33m)\u001b[0m\u001b[1;33m\u001b[0m\u001b[1;33m\u001b[0m\u001b[0m\n\u001b[1;32m-> 1064\u001b[1;33m         \u001b[0margs\u001b[0m\u001b[1;33m,\u001b[0m \u001b[0mloc\u001b[0m\u001b[1;33m,\u001b[0m \u001b[0mscale\u001b[0m\u001b[1;33m,\u001b[0m \u001b[0msize\u001b[0m \u001b[1;33m=\u001b[0m \u001b[0mself\u001b[0m\u001b[1;33m.\u001b[0m\u001b[0m_parse_args_rvs\u001b[0m\u001b[1;33m(\u001b[0m\u001b[1;33m*\u001b[0m\u001b[0margs\u001b[0m\u001b[1;33m,\u001b[0m \u001b[1;33m**\u001b[0m\u001b[0mkwds\u001b[0m\u001b[1;33m)\u001b[0m\u001b[1;33m\u001b[0m\u001b[1;33m\u001b[0m\u001b[0m\n\u001b[0m\u001b[0;32m   1065\u001b[0m         \u001b[0mcond\u001b[0m \u001b[1;33m=\u001b[0m \u001b[0mlogical_and\u001b[0m\u001b[1;33m(\u001b[0m\u001b[0mself\u001b[0m\u001b[1;33m.\u001b[0m\u001b[0m_argcheck\u001b[0m\u001b[1;33m(\u001b[0m\u001b[1;33m*\u001b[0m\u001b[0margs\u001b[0m\u001b[1;33m)\u001b[0m\u001b[1;33m,\u001b[0m \u001b[1;33m(\u001b[0m\u001b[0mscale\u001b[0m \u001b[1;33m>=\u001b[0m \u001b[1;36m0\u001b[0m\u001b[1;33m)\u001b[0m\u001b[1;33m)\u001b[0m\u001b[1;33m\u001b[0m\u001b[1;33m\u001b[0m\u001b[0m\n\u001b[0;32m   1066\u001b[0m         \u001b[1;32mif\u001b[0m \u001b[1;32mnot\u001b[0m \u001b[0mnp\u001b[0m\u001b[1;33m.\u001b[0m\u001b[0mall\u001b[0m\u001b[1;33m(\u001b[0m\u001b[0mcond\u001b[0m\u001b[1;33m)\u001b[0m\u001b[1;33m:\u001b[0m\u001b[1;33m\u001b[0m\u001b[1;33m\u001b[0m\u001b[0m\n",
      "\u001b[1;32m<string>\u001b[0m in \u001b[0;36m_parse_args_rvs\u001b[1;34m(self, loc, scale, size)\u001b[0m\n",
      "\u001b[1;32m~\\anaconda3\\lib\\site-packages\\scipy\\stats\\_distn_infrastructure.py\u001b[0m in \u001b[0;36m_argcheck_rvs\u001b[1;34m(self, *args, **kwargs)\u001b[0m\n\u001b[0;32m    943\u001b[0m                   for (bcdim, szdim) in zip(bcast_shape, size_)])\n\u001b[0;32m    944\u001b[0m         \u001b[1;32mif\u001b[0m \u001b[1;32mnot\u001b[0m \u001b[0mok\u001b[0m\u001b[1;33m:\u001b[0m\u001b[1;33m\u001b[0m\u001b[1;33m\u001b[0m\u001b[0m\n\u001b[1;32m--> 945\u001b[1;33m             raise ValueError(\"size does not match the broadcast shape of \"\n\u001b[0m\u001b[0;32m    946\u001b[0m                              \"the parameters. %s, %s, %s\" % (size, size_,\n\u001b[0;32m    947\u001b[0m                                                              bcast_shape))\n",
      "\u001b[1;31mValueError\u001b[0m: size does not match the broadcast shape of the parameters. 9, (9,), (2,)"
     ]
    }
   ],
   "source": [
    "tl, tr, d = clicks(0.5)"
   ]
  },
  {
   "cell_type": "code",
   "execution_count": 300,
   "id": "42e206b4",
   "metadata": {},
   "outputs": [],
   "source": [
    "duration = np.random.uniform(0.1, 1.2) #compute the duration of the trial\n",
    "l = rates_of_clicks(0.5) #generate the rates of clicks \n",
    "[rR, rL] = random.sample(l, 2)"
   ]
  },
  {
   "cell_type": "code",
   "execution_count": 313,
   "id": "8818dd4a",
   "metadata": {},
   "outputs": [
    {
     "ename": "TypeError",
     "evalue": "'float' object cannot be interpreted as an integer",
     "output_type": "error",
     "traceback": [
      "\u001b[1;31m---------------------------------------------------------------------------\u001b[0m",
      "\u001b[1;31mTypeError\u001b[0m                                 Traceback (most recent call last)",
      "\u001b[1;32m~\\AppData\\Local\\Temp/ipykernel_24776/3358060270.py\u001b[0m in \u001b[0;36m<module>\u001b[1;34m\u001b[0m\n\u001b[1;32m----> 1\u001b[1;33m \u001b[0mnp\u001b[0m\u001b[1;33m.\u001b[0m\u001b[0mrandom\u001b[0m\u001b[1;33m.\u001b[0m\u001b[0mpoisson\u001b[0m\u001b[1;33m(\u001b[0m\u001b[0mnR\u001b[0m\u001b[1;33m,\u001b[0m \u001b[0mduration\u001b[0m\u001b[1;33m)\u001b[0m\u001b[1;33m\u001b[0m\u001b[1;33m\u001b[0m\u001b[0m\n\u001b[0m",
      "\u001b[1;32mmtrand.pyx\u001b[0m in \u001b[0;36mnumpy.random.mtrand.RandomState.poisson\u001b[1;34m()\u001b[0m\n",
      "\u001b[1;32m_common.pyx\u001b[0m in \u001b[0;36mnumpy.random._common.disc\u001b[1;34m()\u001b[0m\n",
      "\u001b[1;31mTypeError\u001b[0m: 'float' object cannot be interpreted as an integer"
     ]
    }
   ],
   "source": [
    "np.random.poisson(nR, duration)"
   ]
  },
  {
   "cell_type": "code",
   "execution_count": null,
   "id": "47f26366",
   "metadata": {},
   "outputs": [],
   "source": [
    "rL, rR, duration = "
   ]
  },
  {
   "cell_type": "code",
   "execution_count": 302,
   "id": "1dc90090",
   "metadata": {},
   "outputs": [],
   "source": [
    "nR = scipy.stats.poisson(rR*duration).rvs()"
   ]
  },
  {
   "cell_type": "code",
   "execution_count": 308,
   "id": "605883b1",
   "metadata": {},
   "outputs": [],
   "source": [
    "times_r = scipy.stats.uniform.rvs(loc=0, size =(nR,1))"
   ]
  },
  {
   "cell_type": "code",
   "execution_count": 310,
   "id": "2bc4c435",
   "metadata": {},
   "outputs": [
    {
     "data": {
      "text/plain": [
       "0.9379471187892974"
      ]
     },
     "execution_count": 310,
     "metadata": {},
     "output_type": "execute_result"
    }
   ],
   "source": [
    "duration"
   ]
  },
  {
   "cell_type": "code",
   "execution_count": 311,
   "id": "2d5ea58a",
   "metadata": {},
   "outputs": [
    {
     "data": {
      "text/plain": [
       "array([0.94530762])"
      ]
     },
     "execution_count": 311,
     "metadata": {},
     "output_type": "execute_result"
    }
   ],
   "source": [
    "max(times_r)"
   ]
  },
  {
   "cell_type": "code",
   "execution_count": 298,
   "id": "f6fc3cc1",
   "metadata": {},
   "outputs": [
    {
     "ename": "ValueError",
     "evalue": "size does not match the broadcast shape of the parameters. 4, (4,), (2,)",
     "output_type": "error",
     "traceback": [
      "\u001b[1;31m---------------------------------------------------------------------------\u001b[0m",
      "\u001b[1;31mValueError\u001b[0m                                Traceback (most recent call last)",
      "\u001b[1;32m~\\AppData\\Local\\Temp/ipykernel_24776/3690760179.py\u001b[0m in \u001b[0;36m<module>\u001b[1;34m\u001b[0m\n\u001b[1;32m----> 1\u001b[1;33m \u001b[0ma\u001b[0m\u001b[1;33m,\u001b[0m \u001b[0mb\u001b[0m\u001b[1;33m,\u001b[0m \u001b[0mc\u001b[0m \u001b[1;33m=\u001b[0m \u001b[0mclicks\u001b[0m\u001b[1;33m(\u001b[0m\u001b[1;36m0.5\u001b[0m\u001b[1;33m)\u001b[0m\u001b[1;33m\u001b[0m\u001b[1;33m\u001b[0m\u001b[0m\n\u001b[0m",
      "\u001b[1;32m~\\AppData\\Local\\Temp/ipykernel_24776/586291790.py\u001b[0m in \u001b[0;36mclicks\u001b[1;34m(gamma)\u001b[0m\n\u001b[0;32m     12\u001b[0m     \u001b[0mnL\u001b[0m \u001b[1;33m=\u001b[0m \u001b[0mscipy\u001b[0m\u001b[1;33m.\u001b[0m\u001b[0mstats\u001b[0m\u001b[1;33m.\u001b[0m\u001b[0mpoisson\u001b[0m\u001b[1;33m(\u001b[0m\u001b[0mrL\u001b[0m\u001b[1;33m*\u001b[0m\u001b[0mduration\u001b[0m\u001b[1;33m)\u001b[0m\u001b[1;33m.\u001b[0m\u001b[0mrvs\u001b[0m\u001b[1;33m(\u001b[0m\u001b[1;33m)\u001b[0m\u001b[1;31m#Number of left clicks\u001b[0m\u001b[1;33m\u001b[0m\u001b[1;33m\u001b[0m\u001b[0m\n\u001b[0;32m     13\u001b[0m     \u001b[0mnR\u001b[0m \u001b[1;33m=\u001b[0m \u001b[0mscipy\u001b[0m\u001b[1;33m.\u001b[0m\u001b[0mstats\u001b[0m\u001b[1;33m.\u001b[0m\u001b[0mpoisson\u001b[0m\u001b[1;33m(\u001b[0m\u001b[0mrR\u001b[0m\u001b[1;33m*\u001b[0m\u001b[0mduration\u001b[0m\u001b[1;33m)\u001b[0m\u001b[1;33m.\u001b[0m\u001b[0mrvs\u001b[0m\u001b[1;33m(\u001b[0m\u001b[1;33m)\u001b[0m\u001b[1;31m#Number of right clicks\u001b[0m\u001b[1;33m\u001b[0m\u001b[1;33m\u001b[0m\u001b[0m\n\u001b[1;32m---> 14\u001b[1;33m     \u001b[0mtimes_l\u001b[0m \u001b[1;33m=\u001b[0m \u001b[0mscipy\u001b[0m\u001b[1;33m.\u001b[0m\u001b[0mstats\u001b[0m\u001b[1;33m.\u001b[0m\u001b[0muniform\u001b[0m\u001b[1;33m.\u001b[0m\u001b[0mrvs\u001b[0m\u001b[1;33m(\u001b[0m\u001b[0mloc\u001b[0m \u001b[1;33m=\u001b[0m \u001b[1;33m[\u001b[0m\u001b[1;36m0\u001b[0m\u001b[1;33m,\u001b[0m \u001b[0mduration\u001b[0m\u001b[1;33m]\u001b[0m\u001b[1;33m,\u001b[0m \u001b[0msize\u001b[0m\u001b[1;33m=\u001b[0m \u001b[0mnL\u001b[0m\u001b[1;33m)\u001b[0m \u001b[1;31m#timestamps of left clicks\u001b[0m\u001b[1;33m\u001b[0m\u001b[1;33m\u001b[0m\u001b[0m\n\u001b[0m\u001b[0;32m     15\u001b[0m     \u001b[0mtimes_r\u001b[0m \u001b[1;33m=\u001b[0m \u001b[0mscipy\u001b[0m\u001b[1;33m.\u001b[0m\u001b[0mstats\u001b[0m\u001b[1;33m.\u001b[0m\u001b[0muniform\u001b[0m\u001b[1;33m.\u001b[0m\u001b[0mrvs\u001b[0m\u001b[1;33m(\u001b[0m\u001b[0mloc\u001b[0m\u001b[1;33m=\u001b[0m \u001b[1;33m[\u001b[0m\u001b[1;36m0\u001b[0m\u001b[1;33m,\u001b[0m\u001b[0mduration\u001b[0m\u001b[1;33m]\u001b[0m\u001b[1;33m,\u001b[0m \u001b[0msize\u001b[0m \u001b[1;33m=\u001b[0m\u001b[0mnR\u001b[0m\u001b[1;33m)\u001b[0m \u001b[1;31m#timestamps of right clicks\u001b[0m\u001b[1;33m\u001b[0m\u001b[1;33m\u001b[0m\u001b[0m\n\u001b[0;32m     16\u001b[0m     \u001b[1;32mreturn\u001b[0m \u001b[0mnL\u001b[0m\u001b[1;33m,\u001b[0m \u001b[0mnR\u001b[0m\u001b[1;33m,\u001b[0m \u001b[0mduration\u001b[0m\u001b[1;33m\u001b[0m\u001b[1;33m\u001b[0m\u001b[0m\n",
      "\u001b[1;32m~\\anaconda3\\lib\\site-packages\\scipy\\stats\\_distn_infrastructure.py\u001b[0m in \u001b[0;36mrvs\u001b[1;34m(self, *args, **kwds)\u001b[0m\n\u001b[0;32m   1062\u001b[0m         \u001b[0mdiscrete\u001b[0m \u001b[1;33m=\u001b[0m \u001b[0mkwds\u001b[0m\u001b[1;33m.\u001b[0m\u001b[0mpop\u001b[0m\u001b[1;33m(\u001b[0m\u001b[1;34m'discrete'\u001b[0m\u001b[1;33m,\u001b[0m \u001b[1;32mNone\u001b[0m\u001b[1;33m)\u001b[0m\u001b[1;33m\u001b[0m\u001b[1;33m\u001b[0m\u001b[0m\n\u001b[0;32m   1063\u001b[0m         \u001b[0mrndm\u001b[0m \u001b[1;33m=\u001b[0m \u001b[0mkwds\u001b[0m\u001b[1;33m.\u001b[0m\u001b[0mpop\u001b[0m\u001b[1;33m(\u001b[0m\u001b[1;34m'random_state'\u001b[0m\u001b[1;33m,\u001b[0m \u001b[1;32mNone\u001b[0m\u001b[1;33m)\u001b[0m\u001b[1;33m\u001b[0m\u001b[1;33m\u001b[0m\u001b[0m\n\u001b[1;32m-> 1064\u001b[1;33m         \u001b[0margs\u001b[0m\u001b[1;33m,\u001b[0m \u001b[0mloc\u001b[0m\u001b[1;33m,\u001b[0m \u001b[0mscale\u001b[0m\u001b[1;33m,\u001b[0m \u001b[0msize\u001b[0m \u001b[1;33m=\u001b[0m \u001b[0mself\u001b[0m\u001b[1;33m.\u001b[0m\u001b[0m_parse_args_rvs\u001b[0m\u001b[1;33m(\u001b[0m\u001b[1;33m*\u001b[0m\u001b[0margs\u001b[0m\u001b[1;33m,\u001b[0m \u001b[1;33m**\u001b[0m\u001b[0mkwds\u001b[0m\u001b[1;33m)\u001b[0m\u001b[1;33m\u001b[0m\u001b[1;33m\u001b[0m\u001b[0m\n\u001b[0m\u001b[0;32m   1065\u001b[0m         \u001b[0mcond\u001b[0m \u001b[1;33m=\u001b[0m \u001b[0mlogical_and\u001b[0m\u001b[1;33m(\u001b[0m\u001b[0mself\u001b[0m\u001b[1;33m.\u001b[0m\u001b[0m_argcheck\u001b[0m\u001b[1;33m(\u001b[0m\u001b[1;33m*\u001b[0m\u001b[0margs\u001b[0m\u001b[1;33m)\u001b[0m\u001b[1;33m,\u001b[0m \u001b[1;33m(\u001b[0m\u001b[0mscale\u001b[0m \u001b[1;33m>=\u001b[0m \u001b[1;36m0\u001b[0m\u001b[1;33m)\u001b[0m\u001b[1;33m)\u001b[0m\u001b[1;33m\u001b[0m\u001b[1;33m\u001b[0m\u001b[0m\n\u001b[0;32m   1066\u001b[0m         \u001b[1;32mif\u001b[0m \u001b[1;32mnot\u001b[0m \u001b[0mnp\u001b[0m\u001b[1;33m.\u001b[0m\u001b[0mall\u001b[0m\u001b[1;33m(\u001b[0m\u001b[0mcond\u001b[0m\u001b[1;33m)\u001b[0m\u001b[1;33m:\u001b[0m\u001b[1;33m\u001b[0m\u001b[1;33m\u001b[0m\u001b[0m\n",
      "\u001b[1;32m<string>\u001b[0m in \u001b[0;36m_parse_args_rvs\u001b[1;34m(self, loc, scale, size)\u001b[0m\n",
      "\u001b[1;32m~\\anaconda3\\lib\\site-packages\\scipy\\stats\\_distn_infrastructure.py\u001b[0m in \u001b[0;36m_argcheck_rvs\u001b[1;34m(self, *args, **kwargs)\u001b[0m\n\u001b[0;32m    943\u001b[0m                   for (bcdim, szdim) in zip(bcast_shape, size_)])\n\u001b[0;32m    944\u001b[0m         \u001b[1;32mif\u001b[0m \u001b[1;32mnot\u001b[0m \u001b[0mok\u001b[0m\u001b[1;33m:\u001b[0m\u001b[1;33m\u001b[0m\u001b[1;33m\u001b[0m\u001b[0m\n\u001b[1;32m--> 945\u001b[1;33m             raise ValueError(\"size does not match the broadcast shape of \"\n\u001b[0m\u001b[0;32m    946\u001b[0m                              \"the parameters. %s, %s, %s\" % (size, size_,\n\u001b[0;32m    947\u001b[0m                                                              bcast_shape))\n",
      "\u001b[1;31mValueError\u001b[0m: size does not match the broadcast shape of the parameters. 4, (4,), (2,)"
     ]
    }
   ],
   "source": [
    "a, b, c = clicks(0.5)"
   ]
  },
  {
   "cell_type": "code",
   "execution_count": 282,
   "id": "d2d2d8ed",
   "metadata": {},
   "outputs": [],
   "source": [
    "b = a.sort"
   ]
  },
  {
   "cell_type": "code",
   "execution_count": 289,
   "id": "52d5ec61",
   "metadata": {},
   "outputs": [
    {
     "data": {
      "text/plain": [
       "2"
      ]
     },
     "execution_count": 289,
     "metadata": {},
     "output_type": "execute_result"
    }
   ],
   "source": [
    "b"
   ]
  },
  {
   "cell_type": "code",
   "execution_count": 264,
   "id": "922bbda2",
   "metadata": {},
   "outputs": [],
   "source": [
    "t = a.tolist()"
   ]
  },
  {
   "cell_type": "code",
   "execution_count": 267,
   "id": "623e3bdd",
   "metadata": {},
   "outputs": [
    {
     "data": {
      "text/plain": [
       "0.22382404174921255"
      ]
     },
     "execution_count": 267,
     "metadata": {},
     "output_type": "execute_result"
    }
   ],
   "source": [
    "t[0][0]"
   ]
  },
  {
   "cell_type": "code",
   "execution_count": 168,
   "id": "1fa64cbb",
   "metadata": {},
   "outputs": [],
   "source": [
    "a = np.array([10*2, 1])"
   ]
  },
  {
   "cell_type": "code",
   "execution_count": 255,
   "id": "04d7654d",
   "metadata": {},
   "outputs": [
    {
     "data": {
      "text/plain": [
       "0.03996003996003996"
      ]
     },
     "execution_count": 255,
     "metadata": {},
     "output_type": "execute_result"
    }
   ],
   "source": [
    "40/(1 + 10**3)"
   ]
  },
  {
   "cell_type": "code",
   "execution_count": 260,
   "id": "e481469e",
   "metadata": {},
   "outputs": [
    {
     "data": {
      "text/plain": [
       "Text(1, 0, 'mean number of clicks : 26.315, mean difference : 13.529')"
      ]
     },
     "execution_count": 260,
     "metadata": {},
     "output_type": "execute_result"
    }
   ],
   "source": [
    "m = 0\n",
    "v = 0\n",
    "nb = 1000\n",
    "for i in range (nb):\n",
    "    a,b,_ = clicks(0.5)\n",
    "    m += len(a) + len(b)\n",
    "    v += abs(len(a) - len(b))\n",
    "    ya = np.ones(len(a)) + 2*i\n",
    "    yb = np.ones(len(b)) + 2*i + 1\n",
    "    plt.scatter(a,ya, color='g', marker='|')\n",
    "    plt.scatter(b,yb, color='b', marker='|')\n",
    "m = m/nb\n",
    "v = v/nb\n",
    "plt.xlim([0, 1.2])\n",
    "plt.text(x = 1, y = 0, s = f'mean number of clicks : {m}, mean difference : {v}')"
   ]
  },
  {
   "cell_type": "code",
   "execution_count": 210,
   "id": "7182bb20",
   "metadata": {},
   "outputs": [],
   "source": [
    "l = np.array([1,10*2], dtype='object')"
   ]
  },
  {
   "cell_type": "code",
   "execution_count": 222,
   "id": "e0d43e0a",
   "metadata": {},
   "outputs": [
    {
     "data": {
      "text/plain": [
       "array([2., 2.])"
      ]
     },
     "execution_count": 222,
     "metadata": {},
     "output_type": "execute_result"
    }
   ],
   "source": [
    "np.ones(2) + 1"
   ]
  },
  {
   "cell_type": "code",
   "execution_count": 140,
   "id": "942d190a",
   "metadata": {},
   "outputs": [
    {
     "data": {
      "text/plain": [
       "0.6324442447482659"
      ]
     },
     "execution_count": 140,
     "metadata": {},
     "output_type": "execute_result"
    }
   ],
   "source": [
    "c"
   ]
  },
  {
   "cell_type": "code",
   "execution_count": 96,
   "id": "3475aa8b",
   "metadata": {},
   "outputs": [
    {
     "data": {
      "text/plain": [
       "(2, 5)"
      ]
     },
     "execution_count": 96,
     "metadata": {},
     "output_type": "execute_result"
    }
   ],
   "source": [
    "clicks(2,5)"
   ]
  },
  {
   "cell_type": "code",
   "execution_count": 92,
   "id": "7a3132cd",
   "metadata": {},
   "outputs": [
    {
     "name": "stdout",
     "output_type": "stream",
     "text": [
      "0.7797939470180172 -2.1622776601683795\n"
     ]
    }
   ],
   "source": [
    "a, b,  = numbers_of_clicks(0.5)"
   ]
  },
  {
   "cell_type": "code",
   "execution_count": 101,
   "id": "70cb9f34",
   "metadata": {},
   "outputs": [],
   "source": [
    "[a, b] = random.sample([1,2], 2)"
   ]
  },
  {
   "cell_type": "code",
   "execution_count": 102,
   "id": "146f5c8d",
   "metadata": {},
   "outputs": [
    {
     "data": {
      "text/plain": [
       "1"
      ]
     },
     "execution_count": 102,
     "metadata": {},
     "output_type": "execute_result"
    }
   ],
   "source": [
    "a"
   ]
  },
  {
   "cell_type": "code",
   "execution_count": 69,
   "id": "271ac1db",
   "metadata": {},
   "outputs": [],
   "source": [
    "a = sp.stats.poisson.rvs(2)"
   ]
  },
  {
   "cell_type": "code",
   "execution_count": 24,
   "id": "bea42526",
   "metadata": {},
   "outputs": [
    {
     "data": {
      "text/plain": [
       "3"
      ]
     },
     "execution_count": 24,
     "metadata": {},
     "output_type": "execute_result"
    }
   ],
   "source": [
    "NL + NT = 22\n",
    "NL - NT = 12 "
   ]
  },
  {
   "cell_type": "code",
   "execution_count": null,
   "id": "844c1325",
   "metadata": {},
   "outputs": [],
   "source": []
  },
  {
   "cell_type": "markdown",
   "id": "38938c92",
   "metadata": {},
   "source": [
    "# Simulating responses with known parameters"
   ]
  },
  {
   "cell_type": "markdown",
   "id": "edc84a1f",
   "metadata": {},
   "source": [
    "## Functions"
   ]
  },
  {
   "cell_type": "markdown",
   "id": "e2fbf97f",
   "metadata": {},
   "source": [
    "We need delta functions, Gaussian variables, white-noise Weiner process"
   ]
  },
  {
   "cell_type": "code",
   "execution_count": 12,
   "id": "881e5103",
   "metadata": {},
   "outputs": [],
   "source": [
    "delta = sp.signal.unit_impulse(4,3)"
   ]
  },
  {
   "cell_type": "code",
   "execution_count": 14,
   "id": "bb182cdd",
   "metadata": {},
   "outputs": [],
   "source": [
    "gaussian = np.random.normal(0,1)"
   ]
  },
  {
   "cell_type": "code",
   "execution_count": 16,
   "id": "5aedb742",
   "metadata": {},
   "outputs": [],
   "source": [
    "def dw(x0, n_steps = 1000):\n",
    "    w = np.ones(n_step)*x0\n",
    "    for i in range(1,n_step):\n",
    "        # Sampling from the Normal distribution\n",
    "        yi = np.random.normal()\n",
    "        # Weiner process\n",
    "        w[i] = w[i-1]+(yi/np.sqrt(n_step))\n",
    "    return w"
   ]
  },
  {
   "cell_type": "code",
   "execution_count": null,
   "id": "f004e683",
   "metadata": {},
   "outputs": [],
   "source": [
    "def compute_a (Lambda, b, sigmaA, sigmaS, sigmaI, bias, phi, tauPhi):\n",
    "    "
   ]
  },
  {
   "cell_type": "markdown",
   "id": "012fd6e6",
   "metadata": {},
   "source": [
    "## Parameters"
   ]
  },
  {
   "cell_type": "code",
   "execution_count": null,
   "id": "790ebf4d",
   "metadata": {},
   "outputs": [],
   "source": [
    "Lambda\n",
    "b\n",
    "sigmaA\n",
    "sigmaS\n",
    "sigmaI\n",
    "bias\n",
    "phi\n",
    "tauPhi"
   ]
  },
  {
   "cell_type": "markdown",
   "id": "aa08ba02",
   "metadata": {},
   "source": [
    "## Plotting"
   ]
  },
  {
   "cell_type": "code",
   "execution_count": null,
   "id": "d410bb70",
   "metadata": {},
   "outputs": [],
   "source": []
  },
  {
   "cell_type": "code",
   "execution_count": null,
   "id": "00e60863",
   "metadata": {},
   "outputs": [],
   "source": []
  },
  {
   "cell_type": "code",
   "execution_count": null,
   "id": "97f36ef8",
   "metadata": {},
   "outputs": [],
   "source": []
  },
  {
   "cell_type": "markdown",
   "id": "3d50463d",
   "metadata": {},
   "source": [
    "# Creating the gradient"
   ]
  },
  {
   "cell_type": "code",
   "execution_count": null,
   "id": "208e1922",
   "metadata": {},
   "outputs": [],
   "source": []
  },
  {
   "cell_type": "code",
   "execution_count": null,
   "id": "3e13058e",
   "metadata": {},
   "outputs": [],
   "source": []
  }
 ],
 "metadata": {
  "kernelspec": {
   "display_name": "Python 3 (ipykernel)",
   "language": "python",
   "name": "python3"
  },
  "language_info": {
   "codemirror_mode": {
    "name": "ipython",
    "version": 3
   },
   "file_extension": ".py",
   "mimetype": "text/x-python",
   "name": "python",
   "nbconvert_exporter": "python",
   "pygments_lexer": "ipython3",
   "version": "3.8.3"
  }
 },
 "nbformat": 4,
 "nbformat_minor": 5
}
